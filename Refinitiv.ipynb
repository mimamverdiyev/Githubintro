{
  "nbformat": 4,
  "nbformat_minor": 0,
  "metadata": {
    "colab": {
      "provenance": [],
      "authorship_tag": "ABX9TyPehVnHK3sh93QQIIFR3SWe",
      "include_colab_link": true
    },
    "kernelspec": {
      "name": "python3",
      "display_name": "Python 3"
    },
    "language_info": {
      "name": "python"
    }
  },
  "cells": [
    {
      "cell_type": "markdown",
      "metadata": {
        "id": "view-in-github",
        "colab_type": "text"
      },
      "source": [
        "<a href=\"https://colab.research.google.com/github/mimamverdiyev/Githubintro/blob/main/Refinitiv.ipynb\" target=\"_parent\"><img src=\"https://colab.research.google.com/assets/colab-badge.svg\" alt=\"Open In Colab\"/></a>"
      ]
    },
    {
      "cell_type": "code",
      "source": [
        "'pip install refinitiv-data'"
      ],
      "metadata": {
        "colab": {
          "base_uri": "https://localhost:8080/",
          "height": 35
        },
        "id": "o8kcFQspuQQx",
        "outputId": "d4bbb236-d730-47a6-e473-0075ad38400d"
      },
      "execution_count": 3,
      "outputs": [
        {
          "output_type": "execute_result",
          "data": {
            "text/plain": [
              "'pip install refinitiv-data'"
            ],
            "application/vnd.google.colaboratory.intrinsic+json": {
              "type": "string"
            }
          },
          "metadata": {},
          "execution_count": 3
        }
      ]
    },
    {
      "cell_type": "code",
      "source": [
        "pip install eikon"
      ],
      "metadata": {
        "colab": {
          "base_uri": "https://localhost:8080/"
        },
        "id": "9gyzmZqKypl0",
        "outputId": "8bcd2e1d-3fac-4789-96a8-962f3d16b635"
      },
      "execution_count": 12,
      "outputs": [
        {
          "output_type": "stream",
          "name": "stdout",
          "text": [
            "Looking in indexes: https://pypi.org/simple, https://us-python.pkg.dev/colab-wheels/public/simple/\n",
            "Collecting eikon\n",
            "  Downloading eikon-1.1.16-py3-none-any.whl (131 kB)\n",
            "\u001b[2K     \u001b[90m━━━━━━━━━━━━━━━━━━━━━━━━━━━━━━━━━━━━━━\u001b[0m \u001b[32m131.1/131.1 KB\u001b[0m \u001b[31m12.5 MB/s\u001b[0m eta \u001b[36m0:00:00\u001b[0m\n",
            "\u001b[?25hRequirement already satisfied: numpy>=1.11.0 in /usr/local/lib/python3.8/dist-packages (from eikon) (1.21.6)\n",
            "Requirement already satisfied: python-dateutil in /usr/local/lib/python3.8/dist-packages (from eikon) (2.8.2)\n",
            "Collecting websocket-client!=1.0.0,>=0.54.0\n",
            "  Downloading websocket_client-1.5.0-py3-none-any.whl (55 kB)\n",
            "\u001b[2K     \u001b[90m━━━━━━━━━━━━━━━━━━━━━━━━━━━━━━━━━━━━━━━━\u001b[0m \u001b[32m55.9/55.9 KB\u001b[0m \u001b[31m8.0 MB/s\u001b[0m eta \u001b[36m0:00:00\u001b[0m\n",
            "\u001b[?25hRequirement already satisfied: certifi in /usr/local/lib/python3.8/dist-packages (from eikon) (2022.12.7)\n",
            "Collecting h2==3.*\n",
            "  Downloading h2-3.2.0-py2.py3-none-any.whl (65 kB)\n",
            "\u001b[2K     \u001b[90m━━━━━━━━━━━━━━━━━━━━━━━━━━━━━━━━━━━━━━━━\u001b[0m \u001b[32m65.0/65.0 KB\u001b[0m \u001b[31m8.9 MB/s\u001b[0m eta \u001b[36m0:00:00\u001b[0m\n",
            "\u001b[?25hCollecting datetime\n",
            "  Downloading DateTime-5.0-py3-none-any.whl (52 kB)\n",
            "\u001b[2K     \u001b[90m━━━━━━━━━━━━━━━━━━━━━━━━━━━━━━━━━━━━━━━━\u001b[0m \u001b[32m52.1/52.1 KB\u001b[0m \u001b[31m6.6 MB/s\u001b[0m eta \u001b[36m0:00:00\u001b[0m\n",
            "\u001b[?25hRequirement already satisfied: appdirs>=1.4.3 in /usr/local/lib/python3.8/dist-packages (from eikon) (1.4.4)\n",
            "Collecting rfc3986==1.*\n",
            "  Downloading rfc3986-1.5.0-py2.py3-none-any.whl (31 kB)\n",
            "Collecting deprecation\n",
            "  Downloading deprecation-2.1.0-py2.py3-none-any.whl (11 kB)\n",
            "Collecting chardet==3.*\n",
            "  Downloading chardet-3.0.4-py2.py3-none-any.whl (133 kB)\n",
            "\u001b[2K     \u001b[90m━━━━━━━━━━━━━━━━━━━━━━━━━━━━━━━━━━━━━━\u001b[0m \u001b[32m133.4/133.4 KB\u001b[0m \u001b[31m16.8 MB/s\u001b[0m eta \u001b[36m0:00:00\u001b[0m\n",
            "\u001b[?25hRequirement already satisfied: requests==2.* in /usr/local/lib/python3.8/dist-packages (from eikon) (2.25.1)\n",
            "Collecting httpx>=0.18.0\n",
            "  Downloading httpx-0.23.3-py3-none-any.whl (71 kB)\n",
            "\u001b[2K     \u001b[90m━━━━━━━━━━━━━━━━━━━━━━━━━━━━━━━━━━━━━━━━\u001b[0m \u001b[32m71.5/71.5 KB\u001b[0m \u001b[31m10.9 MB/s\u001b[0m eta \u001b[36m0:00:00\u001b[0m\n",
            "\u001b[?25hRequirement already satisfied: idna==2.* in /usr/local/lib/python3.8/dist-packages (from eikon) (2.10)\n",
            "Collecting nest-asyncio>=1.5.1\n",
            "  Downloading nest_asyncio-1.5.6-py3-none-any.whl (5.2 kB)\n",
            "Requirement already satisfied: pandas>=1.0.0 in /usr/local/lib/python3.8/dist-packages (from eikon) (1.3.5)\n",
            "Collecting hyperframe<6,>=5.2.0\n",
            "  Downloading hyperframe-5.2.0-py2.py3-none-any.whl (12 kB)\n",
            "Collecting hpack<4,>=3.0\n",
            "  Downloading hpack-3.0.0-py2.py3-none-any.whl (38 kB)\n",
            "Requirement already satisfied: urllib3<1.27,>=1.21.1 in /usr/local/lib/python3.8/dist-packages (from requests==2.*->eikon) (1.24.3)\n",
            "Collecting httpcore<0.17.0,>=0.15.0\n",
            "  Downloading httpcore-0.16.3-py3-none-any.whl (69 kB)\n",
            "\u001b[2K     \u001b[90m━━━━━━━━━━━━━━━━━━━━━━━━━━━━━━━━━━━━━━━━\u001b[0m \u001b[32m69.6/69.6 KB\u001b[0m \u001b[31m10.6 MB/s\u001b[0m eta \u001b[36m0:00:00\u001b[0m\n",
            "\u001b[?25hCollecting sniffio\n",
            "  Downloading sniffio-1.3.0-py3-none-any.whl (10 kB)\n",
            "Requirement already satisfied: pytz>=2017.3 in /usr/local/lib/python3.8/dist-packages (from pandas>=1.0.0->eikon) (2022.7)\n",
            "Requirement already satisfied: six>=1.5 in /usr/local/lib/python3.8/dist-packages (from python-dateutil->eikon) (1.15.0)\n",
            "Collecting zope.interface\n",
            "  Downloading zope.interface-5.5.2-cp38-cp38-manylinux_2_5_x86_64.manylinux1_x86_64.manylinux_2_12_x86_64.manylinux2010_x86_64.whl (261 kB)\n",
            "\u001b[2K     \u001b[90m━━━━━━━━━━━━━━━━━━━━━━━━━━━━━━━━━━━━━━\u001b[0m \u001b[32m261.4/261.4 KB\u001b[0m \u001b[31m30.0 MB/s\u001b[0m eta \u001b[36m0:00:00\u001b[0m\n",
            "\u001b[?25hRequirement already satisfied: packaging in /usr/local/lib/python3.8/dist-packages (from deprecation->eikon) (21.3)\n",
            "Collecting h11<0.15,>=0.13\n",
            "  Downloading h11-0.14.0-py3-none-any.whl (58 kB)\n",
            "\u001b[2K     \u001b[90m━━━━━━━━━━━━━━━━━━━━━━━━━━━━━━━━━━━━━━━━\u001b[0m \u001b[32m58.3/58.3 KB\u001b[0m \u001b[31m9.3 MB/s\u001b[0m eta \u001b[36m0:00:00\u001b[0m\n",
            "\u001b[?25hCollecting anyio<5.0,>=3.0\n",
            "  Downloading anyio-3.6.2-py3-none-any.whl (80 kB)\n",
            "\u001b[2K     \u001b[90m━━━━━━━━━━━━━━━━━━━━━━━━━━━━━━━━━━━━━━━━\u001b[0m \u001b[32m80.6/80.6 KB\u001b[0m \u001b[31m12.4 MB/s\u001b[0m eta \u001b[36m0:00:00\u001b[0m\n",
            "\u001b[?25hRequirement already satisfied: pyparsing!=3.0.5,>=2.0.2 in /usr/local/lib/python3.8/dist-packages (from packaging->deprecation->eikon) (3.0.9)\n",
            "Requirement already satisfied: setuptools in /usr/local/lib/python3.8/dist-packages (from zope.interface->datetime->eikon) (57.4.0)\n",
            "Installing collected packages: rfc3986, hyperframe, hpack, chardet, zope.interface, websocket-client, sniffio, nest-asyncio, h2, h11, deprecation, datetime, anyio, httpcore, httpx, eikon\n",
            "  Attempting uninstall: chardet\n",
            "    Found existing installation: chardet 4.0.0\n",
            "    Uninstalling chardet-4.0.0:\n",
            "      Successfully uninstalled chardet-4.0.0\n",
            "Successfully installed anyio-3.6.2 chardet-3.0.4 datetime-5.0 deprecation-2.1.0 eikon-1.1.16 h11-0.14.0 h2-3.2.0 hpack-3.0.0 httpcore-0.16.3 httpx-0.23.3 hyperframe-5.2.0 nest-asyncio-1.5.6 rfc3986-1.5.0 sniffio-1.3.0 websocket-client-1.5.0 zope.interface-5.5.2\n"
          ]
        }
      ]
    },
    {
      "cell_type": "code",
      "source": [
        "import eikon as ek\n",
        "ek.set_app_key('65edaf3a62c94c5aaf2868066d2a9529f930beb9')"
      ],
      "metadata": {
        "colab": {
          "base_uri": "https://localhost:8080/"
        },
        "id": "ooSzECloy12V",
        "outputId": "dbd85728-3fb9-4250-9491-2899756e472c"
      },
      "execution_count": 15,
      "outputs": [
        {
          "output_type": "stream",
          "name": "stderr",
          "text": [
            "ERROR:pyeikon:Error: no proxy address identified.\n",
            "Check if Eikon Desktop or Eikon API Proxy is running.\n",
            "ERROR:pyeikon:Error on handshake url http://127.0.0.1:None/api/handshake : UnsupportedProtocol(\"Request URL is missing an 'http://' or 'https://' protocol.\")\n",
            "ERROR:pyeikon:Error on handshake url http://127.0.0.1:None/api/handshake : UnsupportedProtocol(\"Request URL is missing an 'http://' or 'https://' protocol.\")\n",
            "ERROR:pyeikon:Port number was not identified, cannot send any request\n"
          ]
        }
      ]
    },
    {
      "cell_type": "code",
      "source": [
        "import eikon as ek\n",
        "ek.set_log_level(1)\n",
        "ek.set_app_key('65edaf3a62c94c5aaf2868066d2a9529f930beb9')"
      ],
      "metadata": {
        "colab": {
          "base_uri": "https://localhost:8080/"
        },
        "id": "X_0T25O40k2y",
        "outputId": "78cca3c9-5256-42c5-d2ae-68a64a683303"
      },
      "execution_count": 16,
      "outputs": [
        {
          "output_type": "stream",
          "name": "stderr",
          "text": [
            "DEBUG:pyeikon:Reset a Desktop session with new app_key\n",
            "INFO:pyeikon:Warning: file .portInUse was not found. Try to fallback to default port number.\n",
            "INFO:pyeikon:Try defaulting to port 9000...\n",
            "INFO:pyeikon:Send GET request to http://127.0.0.1:9000/api/status to detect API Proxy...\n",
            "DEBUG:pyeikon:Request to http://127.0.0.1:9000/api/status\n",
            "\theaders = {'x-tr-applicationid': '65edaf3a62c94c5aaf2868066d2a9529f930beb9'}\n",
            "\tparams = None\n",
            "Level 1:pyeikon:HTTP request failed: ConnectError('All connection attempts failed')\n",
            "DEBUG:pyeikon:Error on checking proxy url http://127.0.0.1:9000/api/status : ConnectError('All connection attempts failed')\n",
            "DEBUG:pyeikon:Default proxy port #9000 failed\n",
            "INFO:pyeikon:Try defaulting to port 9060...\n",
            "INFO:pyeikon:Send GET request to http://127.0.0.1:9060/api/status to detect API Proxy...\n",
            "DEBUG:pyeikon:Request to http://127.0.0.1:9060/api/status\n",
            "\theaders = {'x-tr-applicationid': '65edaf3a62c94c5aaf2868066d2a9529f930beb9'}\n",
            "\tparams = None\n",
            "Level 1:pyeikon:HTTP request failed: ConnectError('All connection attempts failed')\n",
            "DEBUG:pyeikon:Error on checking proxy url http://127.0.0.1:9060/api/status : ConnectError('All connection attempts failed')\n",
            "DEBUG:pyeikon:Default proxy port #9060 failed\n",
            "ERROR:pyeikon:Error: no proxy address identified.\n",
            "Check if Eikon Desktop or Eikon API Proxy is running.\n",
            "INFO:pyeikon:Try to handshake on url http://127.0.0.1:None/api/handshake...\n",
            "DEBUG:pyeikon:Request to http://127.0.0.1:None/api/handshake\n",
            "\theaders = {'Content-Type': 'application/json', 'x-tr-applicationid': '65edaf3a62c94c5aaf2868066d2a9529f930beb9'}\n",
            "\tparams = None\n",
            "Level 1:pyeikon:HTTP request failed: UnsupportedProtocol(\"Request URL is missing an 'http://' or 'https://' protocol.\")\n",
            "ERROR:pyeikon:Error on handshake url http://127.0.0.1:None/api/handshake : UnsupportedProtocol(\"Request URL is missing an 'http://' or 'https://' protocol.\")\n",
            "ERROR:pyeikon:Error on handshake url http://127.0.0.1:None/api/handshake : UnsupportedProtocol(\"Request URL is missing an 'http://' or 'https://' protocol.\")\n",
            "ERROR:pyeikon:Port number was not identified, cannot send any request\n",
            "Level 1:pyeikon:Received notification for closed streaming session 0\n",
            "Level 1:pyeikon:Received notification for closed streaming session 0\n",
            "DEBUG:pyeikon:Init a Desktop session with new app_key\n"
          ]
        }
      ]
    },
    {
      "cell_type": "code",
      "source": [
        "import httpx\n",
        "import eikon as ek\n",
        "print(ek.__version__)\n",
        "print(httpx.__version__)"
      ],
      "metadata": {
        "colab": {
          "base_uri": "https://localhost:8080/"
        },
        "id": "bm7ESite1F-v",
        "outputId": "a1fd890d-e382-4ed7-c431-a4bbb274edda"
      },
      "execution_count": 17,
      "outputs": [
        {
          "output_type": "stream",
          "name": "stdout",
          "text": [
            "1.1.16\n",
            "0.23.3\n"
          ]
        }
      ]
    }
  ]
}